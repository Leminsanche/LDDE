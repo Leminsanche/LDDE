{
 "cells": [
  {
   "cell_type": "markdown",
   "metadata": {},
   "source": [
    "# Unit Cube\n",
    "\n",
    "This Nootebook have the goal to calculate the total energy inside a hexahedric element\n",
    "applying the continum mechanics equations [Bonet 1997]"
   ]
  },
  {
   "cell_type": "code",
   "execution_count": 2,
   "metadata": {},
   "outputs": [
    {
     "name": "stderr",
     "output_type": "stream",
     "text": [
      "2024-04-05 18:05:02.340360: W external/xla/xla/service/gpu/nvptx_compiler.cc:718] The NVIDIA driver's CUDA version is 12.0 which is older than the ptxas CUDA version (12.4.131). Because the driver is older than the ptxas version, XLA is disabling parallel compilation, which may slow down compilation. You should update your NVIDIA driver or use the NVIDIA-provided CUDA forward compatibility packages.\n"
     ]
    }
   ],
   "source": [
    "# Libraries \n",
    "import numpy as np\n",
    "import jax.numpy as jnp\n",
    "import matplotlib.pyplot as plt\n",
    "import pyvista as pv\n",
    "from jax import random\n",
    "import jax\n",
    "key = random.key(0)"
   ]
  },
  {
   "cell_type": "code",
   "execution_count": 3,
   "metadata": {},
   "outputs": [
    {
     "name": "stdout",
     "output_type": "stream",
     "text": [
      "\n"
     ]
    },
    {
     "data": {
      "application/vnd.jupyter.widget-view+json": {
       "model_id": "8ccf5d2fb4c4402a8205511a09c74852",
       "version_major": 2,
       "version_minor": 0
      },
      "text/plain": [
       "Widget(value=\"<iframe src='http://localhost:35233/index.html?ui=P_0x7fdde4322b30_0&reconnect=auto' style='widt…"
      ]
     },
     "metadata": {},
     "output_type": "display_data"
    }
   ],
   "source": [
    "## import mesh\n",
    "\n",
    "mesh = pv.read('/home/nicolas/Escritorio/Codigos/JAX/Unit_Tests/unit_cube.msh')  #Orgiinal File\n",
    "mesh.clear_data()\n",
    "\n",
    "## displacement from FEM software Vulcan\n",
    "disp = np.load('/home/nicolas/Escritorio/Codigos/JAX/Unit_Tests/cube_displacements.npy')[-1,:,:]  # The orden of this file is [time, node, dim]\n",
    "disp_tot = np.load('/home/nicolas/Escritorio/Codigos/JAX/Unit_Tests/cube_displacements.npy')\n",
    "mesh_def = mesh.copy()\n",
    "mesh_def.points += disp\n",
    "\n",
    "pl = pv.Plotter(shape=(1, 2))\n",
    "\n",
    "\n",
    "pl.subplot(0, 0)\n",
    "pl.add_text(\"Original State\", font_size=30)\n",
    "pl.add_mesh(mesh, show_edges=True, color='lightblue',opacity = 1)\n",
    "\n",
    "\n",
    "pl.subplot(0, 1)\n",
    "pl.add_text(\"Deformed State\", font_size=30)\n",
    "pl.add_mesh(mesh_def, show_edges=True, color='lightblue')\n",
    "\n",
    "\n",
    "# Display the window\n",
    "pl.show()"
   ]
  },
  {
   "cell_type": "markdown",
   "metadata": {},
   "source": [
    "Work line is:\n",
    "\n",
    "displacement -> deformation gradient -> Energy -> Total Energy Integral\n",
    "\n"
   ]
  },
  {
   "cell_type": "code",
   "execution_count": 7,
   "metadata": {},
   "outputs": [],
   "source": [
    "class energy():\n",
    "\n",
    "    def __init__(self, nodes, conn):\n",
    "        self.conn = conn\n",
    "        self.nodes = nodes[conn]\n",
    "        self.nnodes = 8\n",
    "\n",
    "\n",
    "        puntos_iso = jnp.array([[-1,-1,-1],\n",
    "                               [ 1,-1,-1],\n",
    "                               [ 1, 1,-1],\n",
    "                               [-1, 1,-1],\n",
    "                               [-1,-1, 1],\n",
    "                               [ 1,-1, 1],\n",
    "                               [ 1, 1, 1],\n",
    "                               [-1, 1, 1] ])\n",
    "        \n",
    "\n",
    "        self.gauss_points = jnp.array([[-1/3**0.5, -1/3**0.5, -1/3**0.5],\n",
    "                                      [ 1/3**0.5, -1/3**0.5, -1/3**0.5],\n",
    "                                      [ 1/3**0.5,  1/3**0.5, -1/3**0.5],\n",
    "                                      [-1/3**0.5,  1/3**0.5, -1/3**0.5],\n",
    "                                      [-1/3**0.5, -1/3**0.5,  1/3**0.5],\n",
    "                                      [ 1/3**0.5, -1/3**0.5,  1/3**0.5],\n",
    "                                      [ 1/3**0.5,  1/3**0.5,  1/3**0.5],\n",
    "                                      [-1/3**0.5,  1/3**0.5,  1/3**0.5],\n",
    "                                      ])\n",
    "        \n",
    "        self.der_N_X_gp = [self.der_N_X(i) for i in self.gauss_points]\n",
    "        self.der_N_X_gp = jnp.array(self.der_N_X_gp).transpose((1,0,2,3))\n",
    "        \n",
    "        self.der_N_X_esquinas = [self.der_N_X(i) for i in puntos_iso]\n",
    "        self.der_N_X_esquinas = np.array(self.der_N_X_esquinas).transpose((1,0,2,3))\n",
    "\n",
    "\n",
    "    def _get_nodes(self, x):\n",
    "        return x[self.conn,:]\n",
    "\n",
    "\n",
    "    def N_func(self, xi):\n",
    "        xi0 = xi[0]\n",
    "        xi1 = xi[1]\n",
    "        xi2 = xi[2]\n",
    "        N1 = (1.0 - xi0)*(1.0 - xi1)*(1.0 - xi2)/8.0  \n",
    "        N2 = (1.0 + xi0)*(1.0 - xi1)*(1.0 - xi2)/8.0  \n",
    "        N3 = (1.0 + xi0)*(1.0 + xi1)*(1.0 - xi2)/8.0  \n",
    "        N4 = (1.0 - xi0)*(1.0 + xi1)*(1.0 - xi2)/8.0  \n",
    "        N5 = (1.0 - xi0)*(1.0 - xi1)*(1.0 + xi2)/8.0  \n",
    "        N6 = (1.0 + xi0)*(1.0 - xi1)*(1.0 + xi2)/8.0  \n",
    "        N7 = (1.0 + xi0)*(1.0 + xi1)*(1.0 + xi2)/8.0\n",
    "        N8 = (1.0 - xi0)*(1.0 + xi1)*(1.0 + xi2)/8.0\n",
    "        return jnp.array([N1, N2, N3, N4, N5, N6, N7, N8])\n",
    "\n",
    "    def der_N_fun(self, xi):\n",
    "        xi0 = xi[0]\n",
    "        xi1 = xi[1]\n",
    "        xi2 = xi[2]\n",
    "        return jnp.array([[  -(1.0 - xi1)*(1.0 - xi2)/8.0, -(1.0 - xi0)*(1.0 - xi2)/8.0, -(1.0 - xi0)*(1.0 - xi1)/8.0],\n",
    "                         [   (1.0 - xi1)*(1.0 - xi2)/8.0, -(1.0 + xi0)*(1.0 - xi2)/8.0, -(1.0 + xi0)*(1.0 - xi1)/8.0],\n",
    "                         [   (1.0 + xi1)*(1.0 - xi2)/8.0,  (1.0 + xi0)*(1.0 - xi2)/8.0, -(1.0 + xi0)*(1.0 + xi1)/8.0],\n",
    "                         [  -(1.0 + xi1)*(1.0 - xi2)/8.0,  (1.0 - xi0)*(1.0 - xi2)/8.0, -(1.0 - xi0)*(1.0 + xi1)/8.0],\n",
    "                         [  -(1.0 - xi1)*(1.0 + xi2)/8.0, -(1.0 - xi0)*(1.0 + xi2)/8.0,  (1.0 - xi0)*(1.0 - xi1)/8.0],\n",
    "                         [   (1.0 - xi1)*(1.0 + xi2)/8.0, -(1.0 + xi0)*(1.0 + xi2)/8.0,  (1.0 + xi0)*(1.0 - xi1)/8.0],\n",
    "                         [   (1.0 + xi1)*(1.0 + xi2)/8.0,  (1.0 + xi0)*(1.0 + xi2)/8.0,  (1.0 + xi0)*(1.0 + xi1)/8.0],\n",
    "                         [  -(1.0 + xi1)*(1.0 + xi2)/8.0,  (1.0 - xi0)*(1.0 + xi2)/8.0,  (1.0 - xi0)*(1.0 + xi1)/8.0],\n",
    "                         ]) \n",
    "\n",
    "    def der_X_xi(self, xi):  # 7.6b\n",
    "        return jnp.einsum('...ai,aj', self.nodes, jax.jit(self.der_N_fun)(xi))\n",
    "\n",
    "    def der_N_X(self, xi):  # 7.6b\n",
    "        temp = self.der_X_xi(xi).transpose(0,2,1)\n",
    "        inv_der_X_xi = np.linalg.inv(temp)\n",
    "        out = np.matmul(inv_der_X_xi, self.der_N_fun(xi).T).transpose(0,2,1)\n",
    "        ##print(out.shape)\n",
    "        return out\n",
    "\n",
    "    def der_x_xi(self, x, xi):  # 7.11a\n",
    "        return jnp.einsum('...ai,...aj', x, jax.jit(self.der_N_fun)(xi))\n",
    "\n",
    "    def der_N_x(self, x, xi):  # 7.11b\n",
    "        temp = self.der_x_xi(x, xi).transpose(0,2,1)\n",
    "        inv_der_x_xi = jnp.linalg.inv(temp)\n",
    "        \n",
    "        return jnp.matmul(inv_der_x_xi,jax.jit(self.der_N_fun)(xi).T).transpose(0,2,1)\n",
    "    \n",
    "    def f_gauss(self, x_n):  # gradiente de deformacion -- 7.5\n",
    "        #print(\"disp\", x_n)\n",
    "        x = self._get_nodes(x_n)\n",
    "        #print(f\"xn: {x}\")\n",
    "        #print(self.der_N_X_gp)\n",
    "        F = jnp.einsum('eai,exaj->exij', x, self.der_N_X_gp)\n",
    "        #print(\"test\", F)\n",
    "        return F\n",
    "    \n",
    "    def f(self, x_n):  # gradiente de deformacion -- 7.5\n",
    "        #print(\"disp\", x_n)\n",
    "        x = self._get_nodes(x_n)\n",
    "        Fs = []\n",
    "        \n",
    "        F = np.einsum('eai,exaj->exij', x, self.der_N_X_esquinas)\n",
    "    \n",
    "        #print(\"test\", F)\n",
    "        return F\n",
    "    \n",
    "    def Delphino(self,F,c1,c2):\n",
    "        F_T = jnp.moveaxis(F,-1,-2)\n",
    "        C = jnp.matmul(F_T,F)\n",
    "        I1,I2,I3 = jnp.einsum('...ii',C), 0.5 * (jnp.einsum('...ii',C)**2 - jnp.einsum('...ii',jnp.matmul(C,C))), jnp.linalg.det(C)\n",
    "        aux = I3**(-1/3)\n",
    "        energia  =  (c1/c2) * (jnp.e**(c2*0.5*(I1*aux-3)) - 1 )    \n",
    "        #print(energia)    \n",
    "        return energia\n",
    "\n",
    "\n",
    "    def Delphino_E(self,x_n,c1,c2):\n",
    "        # x_n nuevas coordenadas\n",
    "        #print(x_n)\n",
    "        x = jax.jit(self._get_nodes)(x_n)\n",
    "        F = jax.jit(self.f_gauss)(x_n)\n",
    "        # print(F.shape)\n",
    "        temp = self.Delphino(F,c1,c2)\n",
    "        # print(temp.shape)\n",
    "        micro = []\n",
    "        for it, gp in enumerate(self.gauss_points):\n",
    "            #print(x.shape)\n",
    "            aux = jnp.linalg.det(jax.jit(self.der_x_xi)(x, gp))\n",
    "            micro.append(aux)\n",
    "        e_t = jnp.dot(temp,jnp.array(micro))\n",
    "        # print(jnp.array(micro).sum())\n",
    "        # # print(e_t)\n",
    "        # #print(micro)\n",
    "        # print(x_n)\n",
    "        return e_t"
   ]
  },
  {
   "cell_type": "code",
   "execution_count": 11,
   "metadata": {},
   "outputs": [
    {
     "data": {
      "text/plain": [
       "Array([[7.9306464]], dtype=float32)"
      ]
     },
     "execution_count": 11,
     "metadata": {},
     "output_type": "execute_result"
    }
   ],
   "source": [
    "cubo = energy(mesh.points, mesh.cells_dict[12])\n",
    "\n",
    "cubo.Delphino_E(mesh_def.points, 30.0E-3,3.77)"
   ]
  },
  {
   "cell_type": "code",
   "execution_count": 10,
   "metadata": {},
   "outputs": [
    {
     "data": {
      "text/plain": [
       "array([[[[1., 0., 0.],\n",
       "         [0., 1., 0.],\n",
       "         [0., 0., 1.]],\n",
       "\n",
       "        [[1., 0., 0.],\n",
       "         [0., 1., 0.],\n",
       "         [0., 0., 1.]],\n",
       "\n",
       "        [[1., 0., 0.],\n",
       "         [0., 1., 0.],\n",
       "         [0., 0., 1.]],\n",
       "\n",
       "        [[1., 0., 0.],\n",
       "         [0., 1., 0.],\n",
       "         [0., 0., 1.]],\n",
       "\n",
       "        [[1., 0., 0.],\n",
       "         [0., 1., 0.],\n",
       "         [0., 0., 1.]],\n",
       "\n",
       "        [[1., 0., 0.],\n",
       "         [0., 1., 0.],\n",
       "         [0., 0., 1.]],\n",
       "\n",
       "        [[1., 0., 0.],\n",
       "         [0., 1., 0.],\n",
       "         [0., 0., 1.]],\n",
       "\n",
       "        [[1., 0., 0.],\n",
       "         [0., 1., 0.],\n",
       "         [0., 0., 1.]]]])"
      ]
     },
     "execution_count": 10,
     "metadata": {},
     "output_type": "execute_result"
    }
   ],
   "source": [
    "cubo.f(mesh.points)"
   ]
  },
  {
   "cell_type": "code",
   "execution_count": null,
   "metadata": {},
   "outputs": [],
   "source": []
  }
 ],
 "metadata": {
  "kernelspec": {
   "display_name": "Python 3",
   "language": "python",
   "name": "python3"
  },
  "language_info": {
   "codemirror_mode": {
    "name": "ipython",
    "version": 3
   },
   "file_extension": ".py",
   "mimetype": "text/x-python",
   "name": "python",
   "nbconvert_exporter": "python",
   "pygments_lexer": "ipython3",
   "version": "3.10.12"
  }
 },
 "nbformat": 4,
 "nbformat_minor": 2
}
